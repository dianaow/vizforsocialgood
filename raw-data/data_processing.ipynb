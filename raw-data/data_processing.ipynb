{
 "cells": [
  {
   "cell_type": "code",
   "execution_count": 1,
   "metadata": {},
   "outputs": [],
   "source": [
    "import pandas as pd\n",
    "import numpy as np"
   ]
  },
  {
   "cell_type": "code",
   "execution_count": 5,
   "metadata": {
    "scrolled": true
   },
   "outputs": [],
   "source": [
    "df_edn_level = pd.read_csv('./raw-data/Kiron Supplementary Data.xlsx - Educational Level of Migrants.csv')\n",
    "df_over_qual = pd.read_csv('./raw-data/Kiron Supplementary Data.xlsx - Over qualification.csv')\n",
    "df_popn = pd.read_csv('./raw-data/Kiron Supplementary Data.xlsx - Population in Education.csv')\n",
    "df_students = pd.read_csv('./raw-data/kiron_students_cleaned.xlsx - kiron students cleaned.csv')"
   ]
  },
  {
   "cell_type": "code",
   "execution_count": null,
   "metadata": {},
   "outputs": [],
   "source": [
    "class DataProcessing():\n",
    "    \n",
    "    def __init__(self):\n",
    "       \"\"\"\n",
    "       \"\"\"\n",
    "    def clean(self, df):\n",
    "        \n",
    "        df = df.rename(columns=lambda x: x.strip()) # remove trailing whitespaces from column names\n",
    "        \n",
    "        # clean up 'attended_university' categorization\n",
    "        df['attended_university'] = df['attended_university'].replace('TRUE\\t', 'TRUE')\n",
    "        df['attended_university'] = df['attended_university'].replace('FALSE\\t', 'FALSE')\n",
    "        df['attended_university'] = df['attended_university'].replace('\\t', 'UNKNOWN')\n",
    "        df['attended_university'] = df['attended_university'].fillna('UNKNOWN')\n",
    "        \n",
    "        # Replace country names to match geo.json file \n",
    "        df['nationality'] = df['nationality'].replace('Syrian Arab Republic', 'Syria')\n",
    "        df['nationality'] = df['nationality'].replace('Iran (Islamic Republic of)', 'Iran')\n",
    "        df['nationality'] = df['nationality'].replace('Palestine, State of', 'Palestine')\n",
    "        df['nationality'] = df['nationality'].replace('Congo (Democratic Republic of the)', 'Dem. Rep. Congo')\n",
    "        df['nationality'] = df['nationality'].replace('Russian Federation', 'Russia')\n",
    "        df['nationality'] = df['nationality'].replace('Venezuela (Bolivarian Republic of)', 'Venezuela')\n",
    "        df['nationality'] = df['nationality'].replace('Tanzania\\tUnited Republic of', 'Tanzania')\n",
    "        df['nationality'] = df['nationality'].replace('United Kingdom of Great Britain and Northern Ireland', 'United Kingdom')\n",
    "        df['nationality'] = df['nationality'].replace(\"C√¥te d'Ivoire\", \"Côte d'Ivoire\")\n",
    "        df['nationality'] = df['nationality'].replace('United States of America', 'United States')\n",
    "        df['nationality'] = df['nationality'].replace('South Sudan', 'S. Sudan')\n",
    "        df['nationality'] = df['nationality'].replace('Western Sahara', 'W. Sahara')\n",
    "        \n",
    "        # convert string dates to datetime format\n",
    "        df['student_since'] = df['student_since'].apply(lambda x : datetime.strptime(x,  \"%m/%d/%Y\"))\n",
    "        df = df.sort_values('student_since', ascending=True)\n",
    "        \n",
    "        return df.reset_index()\n",
    "\n",
    "    def aggregate_count(self, df):\n",
    "\n",
    "        g = df.groupby('nationality')['index'].count()\n",
    "        country_count = pd.DataFrame(g).reset_index().rename(columns={'index': 'count'})\n",
    "        country_pcts = pd.DataFrame(g).apply(lambda x: 100 * x / float(x.sum())).reset_index().rename(columns={'index': 'pct'})\n",
    "        country_stats = pd.merge(country_count, country_pcts, on='nationality', how='left')\n",
    "        country_stats = country_stats.rename(columns={'nationality': 'country'})\n",
    "        \n",
    "        return country_stats.sort_values('pct', ascending=False)\n",
    "    \n",
    "    "
   ]
  },
  {
   "cell_type": "code",
   "execution_count": null,
   "metadata": {},
   "outputs": [],
   "source": [
    "df_students = pd.read_csv('./raw-data/kiron_students_cleaned.xlsx - kiron students cleaned.csv')\n",
    "dp = DataProcessing()\n",
    "df_students_clean = dp.clean(df_students)\n",
    "country_stats = dp.aggregate_count(df_students_clean)"
   ]
  },
  {
   "cell_type": "code",
   "execution_count": null,
   "metadata": {},
   "outputs": [],
   "source": [
    "df_students_clean.to_csv('./processed-data/students_processed.csv', index=False)\n",
    "country_stats.to_csv('./processed-data/country_stats.csv', index=False)"
   ]
  },
  {
   "cell_type": "code",
   "execution_count": null,
   "metadata": {},
   "outputs": [],
   "source": [
    "with open('./raw-data/map.geo.json') as json_file:  \n",
    "    map_data = json.load(json_file)"
   ]
  },
  {
   "cell_type": "code",
   "execution_count": null,
   "metadata": {},
   "outputs": [],
   "source": [
    "for i in map_data['features']:\n",
    "    print(i['properties']['name'])"
   ]
  }
 ],
 "metadata": {
  "kernelspec": {
   "display_name": "Python 3",
   "language": "python",
   "name": "python3"
  },
  "language_info": {
   "codemirror_mode": {
    "name": "ipython",
    "version": 3
   },
   "file_extension": ".py",
   "mimetype": "text/x-python",
   "name": "python",
   "nbconvert_exporter": "python",
   "pygments_lexer": "ipython3",
   "version": "3.7.3"
  }
 },
 "nbformat": 4,
 "nbformat_minor": 2
}
